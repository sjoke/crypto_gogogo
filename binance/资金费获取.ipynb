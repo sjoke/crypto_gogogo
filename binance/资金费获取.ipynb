{
 "cells": [
  {
   "cell_type": "code",
   "execution_count": 7,
   "id": "33552e3d-2db3-46e6-9392-052c13a2f286",
   "metadata": {
    "jupyter": {
     "source_hidden": true
    }
   },
   "outputs": [
    {
     "name": "stdout",
     "output_type": "stream",
     "text": [
      "保存路径:  历史资金费/币安_历史资金费_20240727_171627.csv\n",
      "正在获取:  BTCUSD_PERP\n",
      "正在获取:  ETHUSD_PERP\n",
      "正在获取:  LINKUSD_PERP\n",
      "正在获取:  BNBUSD_PERP\n",
      "正在获取:  TRXUSD_PERP\n",
      "正在获取:  DOTUSD_PERP\n",
      "正在获取:  ADAUSD_PERP\n",
      "正在获取:  EOSUSD_PERP\n",
      "正在获取:  LTCUSD_PERP\n",
      "正在获取:  BCHUSD_PERP\n",
      "正在获取:  XRPUSD_PERP\n",
      "正在获取:  ETCUSD_PERP\n",
      "正在获取:  FILUSD_PERP\n",
      "正在获取:  EGLDUSD_PERP\n",
      "正在获取:  DOGEUSD_PERP\n",
      "正在获取:  UNIUSD_PERP\n",
      "正在获取:  THETAUSD_PERP\n",
      "正在获取:  XLMUSD_PERP\n",
      "正在获取:  SOLUSD_PERP\n",
      "正在获取:  FTMUSD_PERP\n",
      "正在获取:  SANDUSD_PERP\n",
      "正在获取:  MANAUSD_PERP\n",
      "正在获取:  AVAXUSD_PERP\n",
      "正在获取:  GALAUSD_PERP\n",
      "正在获取:  MATICUSD_PERP\n",
      "正在获取:  NEARUSD_PERP\n",
      "正在获取:  ATOMUSD_PERP\n",
      "正在获取:  AAVEUSD_PERP\n",
      "正在获取:  AXSUSD_PERP\n",
      "正在获取:  ROSEUSD_PERP\n",
      "正在获取:  XTZUSD_PERP\n",
      "正在获取:  ICXUSD_PERP\n",
      "正在获取:  ALGOUSD_PERP\n",
      "正在获取:  RUNEUSD_PERP\n",
      "正在获取:  APEUSD_PERP\n",
      "正在获取:  VETUSD_PERP\n",
      "正在获取:  ZILUSD_PERP\n",
      "正在获取:  KNCUSD_PERP\n",
      "正在获取:  GMTUSD_PERP\n",
      "正在获取:  OPUSD_PERP\n",
      "正在获取:  ENSUSD_PERP\n",
      "正在获取:  CHZUSD_PERP\n",
      "正在获取:  APTUSD_PERP\n",
      "正在获取:  WIFUSD_PERP\n",
      "----全部获取完成----\n"
     ]
    }
   ],
   "source": [
    "from binance.spot import Spot\n",
    "from binance.um_futures import UMFutures\n",
    "from binance.cm_futures import CMFutures\n",
    "import pandas as pd\n",
    "import datetime\n",
    "import os\n",
    "\n",
    "spot_client = Spot()\n",
    "um_futures_client = UMFutures()\n",
    "cm_futures_client = CMFutures()\n",
    "spot_client.ping()\n",
    "um_futures_client.ping()\n",
    "\n",
    "\n",
    "def convert(long):\n",
    "    t = datetime.datetime.fromtimestamp(long/1000)\n",
    "    return t.strftime('%Y-%m-%d %H:%M:%S')\n",
    "\n",
    "\n",
    "s = datetime.datetime.today()\n",
    "dt = s.strftime('%Y%m%d_%H%M%S')\n",
    "f = os.path.join('历史资金费','币安_历史资金费_{}.csv'.format(dt))\n",
    "# if not os.path.exists(folder):\n",
    "#     os.mkdir(folder)\n",
    "print('保存路径: ', f)\n",
    "# 包含所有币本位合约\n",
    "resp = cm_futures_client.exchange_info()\n",
    "dfs = []\n",
    "cnt = 0\n",
    "for row in resp['symbols']:\n",
    "    symbol = row['symbol']\n",
    "    if symbol.endswith('PERP') and row['contractStatus'] == 'TRADING':\n",
    "        print('正在获取: ', symbol)\n",
    "        # 永续合约\n",
    "        r = cm_futures_client.funding_rate(symbol, limit=1000)\n",
    "        res = []\n",
    "        for row in r:\n",
    "            d = {\n",
    "                'symbol': row['symbol'],\n",
    "                'fundingTime': row['fundingTime'],\n",
    "                'time':  convert(row['fundingTime']),\n",
    "                'fundingRate': row['fundingRate'],\n",
    "                # 'markPrice': row['markPrice'],\n",
    "            }\n",
    "            res.append(d)\n",
    "        df = pd.DataFrame(res)\n",
    "        dfs.append(df)\n",
    "        cnt += 1\n",
    "df = pd.concat(dfs)\n",
    "df = df.sort_values('time', ascending=False)\n",
    "df.to_csv(f, index=False)\n",
    "\n",
    "print('----全部获取完成,共{}个币种----'.format(cnt))"
   ]
  },
  {
   "cell_type": "code",
   "execution_count": null,
   "id": "37c74c0c-3d37-4897-80b1-8d421a07c105",
   "metadata": {
    "jupyter": {
     "source_hidden": true
    }
   },
   "outputs": [],
   "source": []
  }
 ],
 "metadata": {
  "kernelspec": {
   "display_name": "Python 3 (ipykernel)",
   "language": "python",
   "name": "python3"
  },
  "language_info": {
   "codemirror_mode": {
    "name": "ipython",
    "version": 3
   },
   "file_extension": ".py",
   "mimetype": "text/x-python",
   "name": "python",
   "nbconvert_exporter": "python",
   "pygments_lexer": "ipython3",
   "version": "3.12.2"
  }
 },
 "nbformat": 4,
 "nbformat_minor": 5
}
