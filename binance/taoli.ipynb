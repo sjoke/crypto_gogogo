{
 "cells": [
  {
   "cell_type": "code",
   "execution_count": 1,
   "id": "670f0b9f-ce7f-41fe-9134-4ad73306170f",
   "metadata": {
    "jupyter": {
     "source_hidden": true
    }
   },
   "outputs": [],
   "source": [
    "import datetime\n",
    "import ipywidgets as widgets\n",
    "from IPython.display import display"
   ]
  },
  {
   "cell_type": "code",
   "execution_count": 2,
   "id": "00e53966-e437-41fb-9da7-9c0b10854f10",
   "metadata": {
    "jupyter": {
     "source_hidden": true
    }
   },
   "outputs": [],
   "source": [
    "key_dict = {}\n",
    "keys = []\n",
    "with open(\"api_keys.txt\", 'r') as fp:\n",
    "    for i, line in enumerate(fp.readlines()[1:]):\n",
    "        arr = line.strip().split(',')\n",
    "        key_dict[i] = ','.join(arr)\n",
    "        keys.append((arr[0], i))"
   ]
  },
  {
   "cell_type": "code",
   "execution_count": 3,
   "id": "ffc694f6-66b7-4bc3-b3bb-74f372ed0f34",
   "metadata": {
    "jupyter": {
     "source_hidden": true
    }
   },
   "outputs": [],
   "source": [
    "w_symbol = widgets.Text(\n",
    "    # value='',\n",
    "    placeholder='如BTC,后台会自动补齐以满足永续合约格式',\n",
    "    description='交易币种:',\n",
    "    disabled=False\n",
    ")\n",
    "w_amount = widgets.FloatText(\n",
    "    # value='',\n",
    "    placeholder='开仓时必填',\n",
    "    description='开仓金额/U:',\n",
    "    disabled=False   \n",
    ")\n",
    "w_api_key = widgets.Text(\n",
    "    # value='8d0cffcb-6765-4566-bd59-72a4b6b26180',\n",
    "    # placeholder='输入',\n",
    "    description='API_KEY:',\n",
    "    disabled=False\n",
    ")\n",
    "w_secret = widgets.Text(\n",
    "    # value='DB0C16E298D8AE45A57C8B20168391F4',\n",
    "    # placeholder='输入',\n",
    "    description='SECRET:',\n",
    "    disabled=False\n",
    ")\n",
    "w_passphrase = widgets.Text(\n",
    "    # value='111@Cmfchina.com',\n",
    "    # placeholder='输入',\n",
    "    description='PASSPHRASE:',\n",
    "    disabled=False\n",
    ")\n",
    "w_mode = widgets.Dropdown(\n",
    "    options=[('实盘', '0'), ('模拟', '1')],\n",
    "    value='0',\n",
    "    description='交易模式:',\n",
    ")\n",
    "w_key = widgets.Dropdown(\n",
    "    options=keys,\n",
    "    value=None,\n",
    "    description='api_key名称:',\n",
    ")\n",
    "def on_key_name_change(change):\n",
    "    if change['type'] == 'change' and change['name'] == 'value':\n",
    "        key_id = change['new']\n",
    "        values = key_dict[key_id].split(',')\n",
    "        w_api_key.value = values[1]\n",
    "        w_secret.value = values[2]\n",
    "        w_passphrase.value = values[3]\n",
    "    \n",
    "w_key.observe(on_key_name_change)"
   ]
  },
  {
   "cell_type": "code",
   "execution_count": 4,
   "id": "35a6863c-de7f-4ebf-8d95-eb93ded90346",
   "metadata": {
    "jupyter": {
     "source_hidden": true
    }
   },
   "outputs": [],
   "source": [
    "from okx import getRecent10FundingRatesMax\n",
    "from okx import getCurrentAccountFundingRatesFlow\n",
    "from okx import openOrder\n",
    "from okx import ccyClearance\n",
    "from okx import doMonitor\n",
    "\n",
    "# for test\n",
    "# def getRecent10FundingRatesMax():\n",
    "#     print('getRecent10FundingRatesMax')\n",
    "# def getCurrentAccountFundingRatesFlow(*args):\n",
    "#     print('getCurrentAccountFundingRatesFlow: ', args)\n",
    "# def openOrder(*args):\n",
    "#     print('openOrder: ', args)\n",
    "# def ccyClearance(*args):\n",
    "#     print('ccyClearance: ', args)\n",
    "# def doMonitor(*args):\n",
    "#     print('doMonitor: ', args)\n",
    "\n",
    "output_log = widgets.Output()"
   ]
  },
  {
   "cell_type": "code",
   "execution_count": 5,
   "id": "a03fa135-1625-4032-948c-4c390a50ee5b",
   "metadata": {
    "jupyter": {
     "source_hidden": true
    }
   },
   "outputs": [],
   "source": [
    "def get_public_params():\n",
    "    api_key = w_api_key.value\n",
    "    secret = w_secret.value\n",
    "    passphrase = w_passphrase.value\n",
    "    mode = w_mode.value\n",
    "    return api_key,secret,passphrase,mode\n",
    "\n",
    "layout_flex = widgets.Layout(width='auto', height='auto') #set width and height\n",
    "w_btn_get_top_n = widgets.Button(\n",
    "    description='获取最近十次资金费率最大的十个币种',\n",
    "    disabled=False,\n",
    "    button_style='info', # 'success', 'info', 'warning', 'danger' or ''\n",
    "    layout=layout_flex,\n",
    ")\n",
    "def click_w_btn_get_top_n(b):\n",
    "    t = datetime.datetime.now().strftime('%Y-%m-%d %H:%M:%S')\n",
    "    with output_log:\n",
    "        getRecent10FundingRatesMax()\n",
    "w_btn_get_top_n.on_click(click_w_btn_get_top_n)\n",
    "\n",
    "\n",
    "w_btn_get_account_flow = widgets.Button(\n",
    "    description='获取当前账户资金费流水',\n",
    "    disabled=False,\n",
    "    button_style='info', # 'success', 'info', 'warning', 'danger' or ''\n",
    "    layout=layout_flex,\n",
    ")\n",
    "def click_w_btn_get_account_flow(b):\n",
    "    t = datetime.datetime.now().strftime('%Y-%m-%d %H:%M:%S')\n",
    "    with output_log:\n",
    "        (api_key,secret,passphrase,mode) = get_public_params()\n",
    "        getCurrentAccountFundingRatesFlow(api_key,secret,passphrase,mode)\n",
    "w_btn_get_account_flow.on_click(click_w_btn_get_account_flow)\n",
    "\n",
    "\n",
    "w_btn_open_order = widgets.Button(\n",
    "    description='开仓',\n",
    "    button_style='warning', # 'success', 'info', 'warning', 'danger' or ''\n",
    ")\n",
    "def click_w_btn_open_order(b):\n",
    "    t = datetime.datetime.now().strftime('%Y-%m-%d %H:%M:%S')\n",
    "    (api_key,secret,passphrase,mode) = get_public_params()\n",
    "    ccy = w_symbol.value\n",
    "    amount = w_amount.value\n",
    "    with output_log:\n",
    "        print(t,', 帐户: ', api_key, \", 开仓: \", ccy, ', 金额: ', amount)\n",
    "        openOrder(api_key, secret, passphrase, mode, ccy, amount)\n",
    "w_btn_open_order.on_click(click_w_btn_open_order)\n",
    "\n",
    "w_btn_clear_order = widgets.Button(\n",
    "    description='平仓',\n",
    "    button_style='danger', # 'success', 'info', 'warning', 'danger' or ''\n",
    ")\n",
    "def click_w_btn_clear_order(b):\n",
    "    t = datetime.datetime.now().strftime('%Y-%m-%d %H:%M:%S')\n",
    "    (api_key,secret,passphrase,mode) = get_public_params()\n",
    "    ccy = w_symbol.value\n",
    "    amount = w_amount.value\n",
    "    with output_log:\n",
    "        print(t,', 帐户: ', api_key, \", 平仓: \", ccy)\n",
    "        ccyClearance(api_key, secret, passphrase, mode, ccy)\n",
    "w_btn_clear_order.on_click(click_w_btn_clear_order)\n",
    "\n",
    "\n",
    "w_btn_monitor = widgets.Button(\n",
    "    description='风险监控',\n",
    "    disabled=False,\n",
    "    button_style='info', # 'success', 'info', 'warning', 'danger' or ''\n",
    "    layout=layout_flex,\n",
    ")\n",
    "def click_w_btn_monitor(b):\n",
    "    t = datetime.datetime.now().strftime('%Y-%m-%d %H:%M:%S')\n",
    "    with output_log:\n",
    "        (api_key,secret,passphrase,mode) = get_public_params()\n",
    "        doMonitor(api_key,secret,passphrase,mode)\n",
    "w_btn_monitor.on_click(click_w_btn_monitor)\n",
    "\n",
    "\n",
    "w_btn_clean = widgets.Button(\n",
    "    description='清空打印信息',\n",
    "    button_style='success', # 'success', 'info', 'warning', 'danger' or ''\n",
    "    layout=layout_flex,\n",
    ")\n",
    "def click_w_btn_clean(b):\n",
    "    output_log.clear_output()\n",
    "w_btn_clean.on_click(click_w_btn_clean)"
   ]
  },
  {
   "cell_type": "code",
   "execution_count": 8,
   "id": "8aa05c2a-410d-4fde-a2db-84998c72ae83",
   "metadata": {},
   "outputs": [
    {
     "data": {
      "application/vnd.jupyter.widget-view+json": {
       "model_id": "242354a0c5514cdfaab9ba3ce49d94fd",
       "version_major": 2,
       "version_minor": 0
      },
      "text/plain": [
       "GridspecLayout(children=(HBox(children=(Dropdown(description='交易模式:', options=(('实盘', '0'), ('模拟', '1')), valu…"
      ]
     },
     "execution_count": 8,
     "metadata": {},
     "output_type": "execute_result"
    }
   ],
   "source": [
    "from ipywidgets import HBox, VBox\n",
    "from ipywidgets import GridspecLayout\n",
    "\n",
    "grid = GridspecLayout(6, 3)\n",
    "grid[0,:] = HBox([w_mode, w_key])\n",
    "grid[1,:] = HBox([w_api_key, w_secret, w_passphrase])\n",
    "grid[2,:] = HBox([w_symbol, w_amount])\n",
    "grid[3,:] = HBox([w_btn_open_order, w_btn_clear_order])\n",
    "grid[4,:] = HBox([w_btn_get_top_n, w_btn_get_account_flow])\n",
    "# grid[5,:] = HBox([w_btn_monitor, w_btn_clean])\n",
    "grid[5,:] = HBox([w_btn_clean])\n",
    "grid"
   ]
  },
  {
   "cell_type": "code",
   "execution_count": 7,
   "id": "77eb8754-d697-4467-8d9b-c4ee17d77b74",
   "metadata": {
    "jupyter": {
     "source_hidden": true
    }
   },
   "outputs": [
    {
     "data": {
      "application/vnd.jupyter.widget-view+json": {
       "model_id": "c92e22f81b6f4f4693bf35008ca512b0",
       "version_major": 2,
       "version_minor": 0
      },
      "text/plain": [
       "Output()"
      ]
     },
     "metadata": {},
     "output_type": "display_data"
    }
   ],
   "source": [
    "display(output_log)"
   ]
  }
 ],
 "metadata": {
  "kernelspec": {
   "display_name": "Python 3 (ipykernel)",
   "language": "python",
   "name": "python3"
  },
  "language_info": {
   "codemirror_mode": {
    "name": "ipython",
    "version": 3
   },
   "file_extension": ".py",
   "mimetype": "text/x-python",
   "name": "python",
   "nbconvert_exporter": "python",
   "pygments_lexer": "ipython3",
   "version": "3.9.0"
  }
 },
 "nbformat": 4,
 "nbformat_minor": 5
}
