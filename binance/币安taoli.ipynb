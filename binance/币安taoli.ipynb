{
 "cells": [
  {
   "cell_type": "code",
   "execution_count": 6,
   "id": "ffc694f6-66b7-4bc3-b3bb-74f372ed0f34",
   "metadata": {
    "jupyter": {
     "source_hidden": true
    }
   },
   "outputs": [
    {
     "name": "stderr",
     "output_type": "stream",
     "text": [
      "2024-08-04 22:34:41.430 INFO backend.py:315: 所有币本位永续合约币种: BTCUSD_PERP,ETHUSD_PERP,LINKUSD_PERP,BNBUSD_PERP,TRXUSD_PERP,DOTUSD_PERP,ADAUSD_PERP,EOSUSD_PERP,LTCUSD_PERP,BCHUSD_PERP,XRPUSD_PERP,ETCUSD_PERP,FILUSD_PERP,EGLDUSD_PERP,DOGEUSD_PERP,UNIUSD_PERP,THETAUSD_PERP,XLMUSD_PERP,SOLUSD_PERP,FTMUSD_PERP,SANDUSD_PERP,MANAUSD_PERP,AVAXUSD_PERP,GALAUSD_PERP,MATICUSD_PERP,NEARUSD_PERP,ATOMUSD_PERP,AAVEUSD_PERP,AXSUSD_PERP,ROSEUSD_PERP,XTZUSD_PERP,ICXUSD_PERP,ALGOUSD_PERP,RUNEUSD_PERP,APEUSD_PERP,VETUSD_PERP,ZILUSD_PERP,KNCUSD_PERP,GMTUSD_PERP,OPUSD_PERP,ENSUSD_PERP,CHZUSD_PERP,APTUSD_PERP,WIFUSD_PERP\n"
     ]
    }
   ],
   "source": [
    "import datetime\n",
    "import ipywidgets as widgets\n",
    "from IPython.display import display\n",
    "from backend import API\n",
    "\n",
    "# key_dict = {}\n",
    "# keys = []\n",
    "# with open(\"api_keys.txt\", 'r') as fp:\n",
    "#     for i, line in enumerate(fp.readlines()[1:]):\n",
    "#         arr = line.strip().split(',')\n",
    "#         key_dict[i] = ','.join(arr)\n",
    "#         keys.append((arr[0], i))\n",
    "# default_key_secret = key_dict[keys[0][1]].split(',')\n",
    "default_key_secret = ('U8ZUqC5bIwbVFEubUUHjzt4k0svJUsX2ej2fVYouCbRLt7aisyLCwz5q6CkxQiwl','CIj5gL9aN8qe3DZHkh0fKaH3wNtOxmyA7HKQhf0RWcYZq0PXyG9AMVF6hW9RicbR')\n",
    "\n",
    "account_output = widgets.Output()\n",
    "output_log = widgets.Output()\n",
    "\n",
    "with account_output:\n",
    "    api = API(default_key_secret[0], default_key_secret[1])\n",
    "# api = None\n",
    "\n",
    "w_symbol = widgets.Text(\n",
    "    # value='',\n",
    "    placeholder='如BTC,后台会自动补齐以满足不同品种格式',\n",
    "    description='交易币种:',\n",
    "    disabled=False\n",
    ")\n",
    "w_amount = widgets.FloatText(\n",
    "    # value='',\n",
    "    placeholder='',\n",
    "    description='交易金额/U:',\n",
    "    disabled=False   \n",
    ")\n",
    "w_quantity = widgets.FloatText(\n",
    "    # value='',\n",
    "    placeholder='',\n",
    "    description='数量/张数:',\n",
    "    disabled=False   \n",
    ")\n",
    "w_jicha = widgets.FloatText(\n",
    "    # value='',\n",
    "    placeholder=0,\n",
    "    description='基差:',\n",
    "    disabled=False   \n",
    ")\n",
    "w_api_key = widgets.Text(\n",
    "    value=default_key_secret[0],\n",
    "    # placeholder='输入',\n",
    "    description='API_KEY:',\n",
    "    disabled=False\n",
    ")\n",
    "w_secret = widgets.Text(\n",
    "    value=default_key_secret[1],\n",
    "    # placeholder='输入',\n",
    "    description='SECRET:',\n",
    "    disabled=False\n",
    ")\n",
    "\n",
    "# w_mode = widgets.Dropdown(\n",
    "#     options=[('实盘', '0'), ('模拟', '1')],\n",
    "#     value='0',\n",
    "#     description='交易模式:',\n",
    "# )\n",
    "\n",
    "# 查询账户总资产\n",
    "def query_balance():\n",
    "    account_output.clear_output()\n",
    "    with account_output:\n",
    "        api.query_account_asset()\n",
    "# query_balance()\n",
    "\n",
    "# w_key = widgets.Dropdown(\n",
    "#     options=keys,\n",
    "#     value=0,\n",
    "#     description='api_key名称:',\n",
    "# )\n",
    "# def on_key_name_change(change):\n",
    "#     if change['type'] == 'change' and change['name'] == 'value':\n",
    "#         key_id = change['new']\n",
    "#         values = key_dict[key_id].split(',')\n",
    "#         w_api_key.value = values[1]\n",
    "#         w_secret.value = values[2]\n",
    "#         api.set_key(values[1], values[2])\n",
    "#         query_balance()\n",
    "# w_key.observe(on_key_name_change)\n",
    "\n",
    "\n",
    "w_btn_refresh_bal = widgets.Button(\n",
    "    description='刷新',\n",
    "    button_style='info', # 'success', 'info', 'warning', 'danger' or ''\n",
    ")\n",
    "def click_w_btn_refresh_bal(b):\n",
    "    global api\n",
    "    api = API(w_api_key.value, w_secret.value)\n",
    "    query_balance()\n",
    "w_btn_refresh_bal.on_click(click_w_btn_refresh_bal)"
   ]
  },
  {
   "cell_type": "code",
   "execution_count": 7,
   "id": "a03fa135-1625-4032-948c-4c390a50ee5b",
   "metadata": {
    "jupyter": {
     "source_hidden": true
    }
   },
   "outputs": [],
   "source": [
    "layout_flex = widgets.Layout(width='auto', height='auto')\n",
    "\n",
    "w_btn_open_order = widgets.Button(\n",
    "    description='开仓',\n",
    "    button_style='info', # 'success', 'info', 'warning', 'danger' or ''\n",
    "    layout=layout_flex,\n",
    ")\n",
    "def click_w_btn_open_order(b):\n",
    "    t = datetime.datetime.now().strftime('%Y-%m-%d %H:%M:%S')\n",
    "    ccy = w_symbol.value\n",
    "    amount = w_amount.value\n",
    "    with output_log:\n",
    "        api.open(ccy, amount, w_jicha.value)\n",
    "w_btn_open_order.on_click(click_w_btn_open_order)\n",
    "\n",
    "w_btn_clear_order = widgets.Button(\n",
    "    description='平仓',\n",
    "    button_style='warning', # 'success', 'info', 'warning', 'danger' or ''\n",
    "    layout=layout_flex,\n",
    ")\n",
    "def click_w_btn_clear_order(b):\n",
    "    t = datetime.datetime.now().strftime('%Y-%m-%d %H:%M:%S')\n",
    "    ccy = w_symbol.value\n",
    "    amount = w_amount.value\n",
    "    with output_log:\n",
    "        print(t, \", 平仓: \", ccy, ', 金额: ', amount)\n",
    "        api.close(ccy, amount, w_jicha.value)\n",
    "w_btn_clear_order.on_click(click_w_btn_clear_order)\n",
    "\n",
    "\n",
    "w_btn_margin_buy = widgets.Button(\n",
    "    description='杠杆下单做多,优先使用金额',\n",
    "    button_style='info', # 'success', 'info', 'warning', 'danger' or ''\n",
    "    layout=layout_flex,\n",
    ")\n",
    "def click_w_btn_margin_buy(b):\n",
    "    t = datetime.datetime.now().strftime('%Y-%m-%d %H:%M:%S')\n",
    "    ccy = w_symbol.value\n",
    "    amount = w_amount.value\n",
    "    quantity = w_quantity.value\n",
    "    with output_log:\n",
    "        api.margin_trade(ccy, amount, 'BUY', quantity)\n",
    "w_btn_margin_buy.on_click(click_w_btn_margin_buy)\n",
    "\n",
    "w_btn_margin_sell = widgets.Button(\n",
    "    description='杠杆下单做空,优先使用金额',\n",
    "    button_style='warning', # 'success', 'info', 'warning', 'danger' or ''\n",
    "    layout=layout_flex,\n",
    ")\n",
    "def click_w_btn_margin_sell(b):\n",
    "    t = datetime.datetime.now().strftime('%Y-%m-%d %H:%M:%S')\n",
    "    ccy = w_symbol.value\n",
    "    amount = w_amount.value\n",
    "    quantity = w_quantity.value\n",
    "    with output_log:\n",
    "        api.margin_trade(ccy, amount, 'SELL', quantity)\n",
    "w_btn_margin_sell.on_click(click_w_btn_margin_sell)\n",
    "\n",
    "\n",
    "w_btn_cm_buy = widgets.Button(\n",
    "    description='币本位合约下单做空,数量代表合约张数',\n",
    "    button_style='info', # 'success', 'info', 'warning', 'danger' or ''\n",
    "    layout=layout_flex,\n",
    ")\n",
    "def click_w_btn_cm_buy(b):\n",
    "    t = datetime.datetime.now().strftime('%Y-%m-%d %H:%M:%S')\n",
    "    ccy = w_symbol.value\n",
    "    quantity = w_quantity.value\n",
    "    with output_log:\n",
    "        api.cm_trade_op(ccy, 'SELL', quantity, w_amount.value)\n",
    "w_btn_cm_buy.on_click(click_w_btn_cm_buy)\n",
    "\n",
    "w_btn_cm_sell = widgets.Button(\n",
    "    description='币本位合约下单平空,数量代表合约张数',\n",
    "    button_style='warning', # 'success', 'info', 'warning', 'danger' or ''\n",
    "    layout=layout_flex,\n",
    ")\n",
    "def click_w_btn_cm_sell(b):\n",
    "    t = datetime.datetime.now().strftime('%Y-%m-%d %H:%M:%S')\n",
    "    ccy = w_symbol.value\n",
    "    quantity = w_quantity.value\n",
    "    with output_log:\n",
    "        api.cm_trade_op(ccy, 'BUY', quantity, w_amount.value)\n",
    "w_btn_cm_sell.on_click(click_w_btn_cm_sell)\n",
    "\n",
    "\n",
    "trans_types = '''MAIN_FUNDING 现货钱包转向资金钱包\n",
    "FUNDING_MAIN 资金钱包转向现货钱包\n",
    "MAIN_PORTFOLIO_MARGIN 现货钱包转向统一账户钱包\n",
    "PORTFOLIO_MARGIN_MAIN 统一账户钱包转向现货钱包'''\n",
    "# FUNDING_PORTFOLIO_MARGIN 资金钱包转向统一账户钱包\n",
    "# PORTFOLIO_MARGIN_FUNDING 统一账户钱包转向资金钱包'''\n",
    "\n",
    "trans_type_ids = []\n",
    "trans_type_dict = {}\n",
    "for i, trans_type in enumerate(trans_types.splitlines()):\n",
    "    t_type, t_name = trans_type.split()\n",
    "    trans_type_ids.append((t_name, i))\n",
    "    trans_type_dict[i] = t_type\n",
    "\n",
    "w_transfer_key = widgets.Dropdown(\n",
    "    options=trans_type_ids,\n",
    "    value=0,\n",
    "    description='划转类型:',\n",
    ")\n",
    "w_btn_transfer = widgets.Button(\n",
    "    description='万向划转',\n",
    "    disabled=False,\n",
    "    button_style='info', # 'success', 'info', 'warning', 'danger' or ''\n",
    "    layout=layout_flex,\n",
    ")\n",
    "def click_w_btn_transfer(b):\n",
    "    t = datetime.datetime.now().strftime('%Y-%m-%d %H:%M:%S')\n",
    "    tranfer_type = trans_type_dict[w_transfer_key.value]\n",
    "    ccy = w_symbol.value\n",
    "    quantity = w_quantity.value\n",
    "    with output_log:\n",
    "        print('{}, {}, {}'.format(tranfer_type, ccy, quantity))\n",
    "        if w_transfer_key.value >= 0 and w_transfer_key.value <= 3:\n",
    "            api.transfer(tranfer_type, ccy, quantity)\n",
    "w_btn_transfer.on_click(click_w_btn_transfer)\n",
    "\n",
    "\n",
    "w_btn_clean = widgets.Button(\n",
    "    description='清空日志',\n",
    "    button_style='success', # 'success', 'info', 'warning', 'danger' or ''\n",
    "    layout=layout_flex,\n",
    ")\n",
    "def click_w_btn_clean(b):\n",
    "    output_log.clear_output()\n",
    "w_btn_clean.on_click(click_w_btn_clean)"
   ]
  },
  {
   "cell_type": "code",
   "execution_count": 8,
   "id": "8aa05c2a-410d-4fde-a2db-84998c72ae83",
   "metadata": {
    "jupyter": {
     "source_hidden": true
    }
   },
   "outputs": [
    {
     "data": {
      "application/vnd.jupyter.widget-view+json": {
       "model_id": "7953b74231db413c9171b0d51beee6de",
       "version_major": 2,
       "version_minor": 0
      },
      "text/plain": [
       "GridspecLayout(children=(HBox(children=(Text(value='U8ZUqC5bIwbVFEubUUHjzt4k0svJUsX2ej2fVYouCbRLt7aisyLCwz5q6C…"
      ]
     },
     "execution_count": 8,
     "metadata": {},
     "output_type": "execute_result"
    }
   ],
   "source": [
    "from ipywidgets import HBox, VBox\n",
    "from ipywidgets import GridspecLayout\n",
    "\n",
    "grid = GridspecLayout(7, 3)\n",
    "# grid[0,:] = HBox([w_key, w_api_key, w_secret])\n",
    "grid[0,:] = HBox([w_api_key, w_secret, w_jicha])\n",
    "grid[1,:] = HBox([w_symbol, w_quantity, w_amount])\n",
    "grid[2,:] = HBox([w_btn_open_order, w_btn_clear_order])\n",
    "grid[3,:] = HBox([w_btn_margin_buy, w_btn_margin_sell])\n",
    "grid[4,:] = HBox([w_btn_cm_buy, w_btn_cm_sell])\n",
    "grid[5,:] = HBox([w_btn_transfer, w_transfer_key])\n",
    "grid[6,:] = HBox([w_btn_refresh_bal, w_btn_clean])\n",
    "grid"
   ]
  },
  {
   "cell_type": "code",
   "execution_count": 9,
   "id": "2738b808-aba3-4200-b119-e54e2d08893f",
   "metadata": {
    "jupyter": {
     "source_hidden": true
    }
   },
   "outputs": [
    {
     "data": {
      "application/vnd.jupyter.widget-view+json": {
       "model_id": "478b59b20e1f4e26bfe5e93472aeda5f",
       "version_major": 2,
       "version_minor": 0
      },
      "text/plain": [
       "Output(outputs=({'name': 'stderr', 'text': '2024-08-04 22:34:36.563 INFO backend.py:315: 所有币本位永续合约币种: BTCUSD_P…"
      ]
     },
     "metadata": {},
     "output_type": "display_data"
    }
   ],
   "source": [
    "display(account_output)"
   ]
  },
  {
   "cell_type": "code",
   "execution_count": 10,
   "id": "77eb8754-d697-4467-8d9b-c4ee17d77b74",
   "metadata": {
    "jupyter": {
     "source_hidden": true
    }
   },
   "outputs": [
    {
     "data": {
      "application/vnd.jupyter.widget-view+json": {
       "model_id": "668c0a89753c4dc4a648e5f8cacdef46",
       "version_major": 2,
       "version_minor": 0
      },
      "text/plain": [
       "Output()"
      ]
     },
     "metadata": {},
     "output_type": "display_data"
    }
   ],
   "source": [
    "display(output_log)"
   ]
  },
  {
   "cell_type": "code",
   "execution_count": null,
   "id": "73bac368-d3e5-49e2-8c98-80a1fd447d1b",
   "metadata": {
    "jupyter": {
     "source_hidden": true
    }
   },
   "outputs": [],
   "source": []
  }
 ],
 "metadata": {
  "kernelspec": {
   "display_name": "Python 3 (ipykernel)",
   "language": "python",
   "name": "python3"
  },
  "language_info": {
   "codemirror_mode": {
    "name": "ipython",
    "version": 3
   },
   "file_extension": ".py",
   "mimetype": "text/x-python",
   "name": "python",
   "nbconvert_exporter": "python",
   "pygments_lexer": "ipython3",
   "version": "3.9.0"
  }
 },
 "nbformat": 4,
 "nbformat_minor": 5
}
